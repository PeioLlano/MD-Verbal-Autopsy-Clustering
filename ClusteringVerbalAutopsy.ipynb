{
 "cells": [
  {
   "cell_type": "markdown",
   "id": "c6c3537c",
   "metadata": {},
   "source": [
    "<center><h1>Verbal Autopsy Clustering</h1></center>\n",
    "\n",
    "\n",
    "<h1>Presentacion y datos</h1>"
   ]
  },
  {
   "cell_type": "markdown",
   "id": "e2c4b002",
   "metadata": {},
   "source": [
    "<h1>Bibliografia de momento</h1>\n",
    "\n",
    "https://www.analyticsvidhya.com/blog/2021/06/must-known-techniques-for-text-preprocessing-in-nlp/\n",
    "\n",
    "https://www.researchgate.net/publication/339529230_Preprocessing_Techniques_for_Text_Mining_-_An_Overview\n",
    "***"
   ]
  },
  {
   "cell_type": "markdown",
   "id": "ce354040",
   "metadata": {},
   "source": [
    "Primero vamos a importar todo lo necesario para llevar a cabo la tarea de clustering"
   ]
  },
  {
   "cell_type": "code",
   "execution_count": 1,
   "id": "46271617",
   "metadata": {},
   "outputs": [],
   "source": [
    "import pandas as pd\n",
    "import numpy as np\n",
    "import matplotlib.pyplot as plt\n",
    "import string\n",
    "import nltk\n",
    "from nltk.corpus import stopwords\n",
    "import contractions\n",
    "from nltk.stem import WordNetLemmatizer\n",
    "import re\n",
    "from nltk.stem import PorterStemmer\n",
    "import seaborn as sb"
   ]
  },
  {
   "cell_type": "markdown",
   "id": "8022896a",
   "metadata": {},
   "source": [
    "Antes de empezar debemos crear un objeto a partir del archivo .csv que hemos escogido."
   ]
  },
  {
   "cell_type": "code",
   "execution_count": 2,
   "id": "460e131c",
   "metadata": {},
   "outputs": [],
   "source": [
    "data = pd.read_csv(\"data/cleaned_PHMRC_VAI_redacted_free_text.train.csv\")"
   ]
  },
  {
   "cell_type": "markdown",
   "id": "81c76ad3",
   "metadata": {},
   "source": [
    "Una vez creado aqui tenemos un pequeño ejemplo de lo que esta compuesto."
   ]
  },
  {
   "cell_type": "code",
   "execution_count": 3,
   "id": "49643e30",
   "metadata": {},
   "outputs": [
    {
     "data": {
      "text/html": [
       "<div>\n",
       "<style scoped>\n",
       "    .dataframe tbody tr th:only-of-type {\n",
       "        vertical-align: middle;\n",
       "    }\n",
       "\n",
       "    .dataframe tbody tr th {\n",
       "        vertical-align: top;\n",
       "    }\n",
       "\n",
       "    .dataframe thead th {\n",
       "        text-align: right;\n",
       "    }\n",
       "</style>\n",
       "<table border=\"1\" class=\"dataframe\">\n",
       "  <thead>\n",
       "    <tr style=\"text-align: right;\">\n",
       "      <th></th>\n",
       "      <th>newid</th>\n",
       "      <th>module</th>\n",
       "      <th>age</th>\n",
       "      <th>sex</th>\n",
       "      <th>site</th>\n",
       "      <th>open_response</th>\n",
       "      <th>gs_text34</th>\n",
       "    </tr>\n",
       "  </thead>\n",
       "  <tbody>\n",
       "    <tr>\n",
       "      <th>5204</th>\n",
       "      <td>7120</td>\n",
       "      <td>Adult</td>\n",
       "      <td>42.0</td>\n",
       "      <td>1</td>\n",
       "      <td>UP</td>\n",
       "      <td>the deceased fell ill in the morning his breat...</td>\n",
       "      <td>Diabetes</td>\n",
       "    </tr>\n",
       "    <tr>\n",
       "      <th>5205</th>\n",
       "      <td>6101</td>\n",
       "      <td>Adult</td>\n",
       "      <td>14.0</td>\n",
       "      <td>2</td>\n",
       "      <td>Pemba</td>\n",
       "      <td>the respondant expained that the decease death...</td>\n",
       "      <td>Other Infectious Diseases</td>\n",
       "    </tr>\n",
       "    <tr>\n",
       "      <th>5206</th>\n",
       "      <td>6455</td>\n",
       "      <td>Adult</td>\n",
       "      <td>80.0</td>\n",
       "      <td>2</td>\n",
       "      <td>UP</td>\n",
       "      <td>the deceased had been admitted to hospital whe...</td>\n",
       "      <td>Pneumonia</td>\n",
       "    </tr>\n",
       "    <tr>\n",
       "      <th>5207</th>\n",
       "      <td>5026</td>\n",
       "      <td>Adult</td>\n",
       "      <td>70.0</td>\n",
       "      <td>1</td>\n",
       "      <td>UP</td>\n",
       "      <td>the deceased had been suffering from breathing...</td>\n",
       "      <td>Other Cardiovascular Diseases</td>\n",
       "    </tr>\n",
       "    <tr>\n",
       "      <th>5208</th>\n",
       "      <td>5326</td>\n",
       "      <td>Adult</td>\n",
       "      <td>30.0</td>\n",
       "      <td>1</td>\n",
       "      <td>Dar</td>\n",
       "      <td>the deceased died because of being hitted by a...</td>\n",
       "      <td>Other Injuries</td>\n",
       "    </tr>\n",
       "  </tbody>\n",
       "</table>\n",
       "</div>"
      ],
      "text/plain": [
       "      newid module   age  sex   site  \\\n",
       "5204   7120  Adult  42.0    1     UP   \n",
       "5205   6101  Adult  14.0    2  Pemba   \n",
       "5206   6455  Adult  80.0    2     UP   \n",
       "5207   5026  Adult  70.0    1     UP   \n",
       "5208   5326  Adult  30.0    1    Dar   \n",
       "\n",
       "                                          open_response  \\\n",
       "5204  the deceased fell ill in the morning his breat...   \n",
       "5205  the respondant expained that the decease death...   \n",
       "5206  the deceased had been admitted to hospital whe...   \n",
       "5207  the deceased had been suffering from breathing...   \n",
       "5208  the deceased died because of being hitted by a...   \n",
       "\n",
       "                          gs_text34  \n",
       "5204                       Diabetes  \n",
       "5205      Other Infectious Diseases  \n",
       "5206                      Pneumonia  \n",
       "5207  Other Cardiovascular Diseases  \n",
       "5208                 Other Injuries  "
      ]
     },
     "execution_count": 3,
     "metadata": {},
     "output_type": "execute_result"
    }
   ],
   "source": [
    "data.tail(5)"
   ]
  },
  {
   "cell_type": "markdown",
   "id": "c3db2170",
   "metadata": {},
   "source": [
    "Primero valoraremos si alguna de las instancias tiene algun valor null."
   ]
  },
  {
   "cell_type": "code",
   "execution_count": 4,
   "id": "77f03d4f",
   "metadata": {},
   "outputs": [
    {
     "name": "stdout",
     "output_type": "stream",
     "text": [
      "<class 'pandas.core.frame.DataFrame'>\n",
      "RangeIndex: 5209 entries, 0 to 5208\n",
      "Data columns (total 7 columns):\n",
      " #   Column         Non-Null Count  Dtype  \n",
      "---  ------         --------------  -----  \n",
      " 0   newid          5209 non-null   int64  \n",
      " 1   module         5209 non-null   object \n",
      " 2   age            5209 non-null   float64\n",
      " 3   sex            5209 non-null   int64  \n",
      " 4   site           5209 non-null   object \n",
      " 5   open_response  5209 non-null   object \n",
      " 6   gs_text34      5209 non-null   object \n",
      "dtypes: float64(1), int64(2), object(4)\n",
      "memory usage: 285.0+ KB\n"
     ]
    }
   ],
   "source": [
    "data_null = data.info()"
   ]
  },
  {
   "cell_type": "markdown",
   "id": "19e9f6af",
   "metadata": {},
   "source": [
    "No se aprecia ninguna entidad con valor null."
   ]
  },
  {
   "cell_type": "markdown",
   "id": "8866ac23",
   "metadata": {},
   "source": [
    "<h3>Representación gráfica</h3>"
   ]
  },
  {
   "cell_type": "code",
   "execution_count": 5,
   "id": "43ab0569",
   "metadata": {},
   "outputs": [
    {
     "data": {
      "text/plain": [
       "<BarContainer object of 48 artists>"
      ]
     },
     "execution_count": 5,
     "metadata": {},
     "output_type": "execute_result"
    },
    {
     "data": {
      "image/png": "[encoded data removed]",
      "text/plain": [
       "<Figure size 640x480 with 1 Axes>"
      ]
     },
     "metadata": {},
     "output_type": "display_data"
    }
   ],
   "source": [
    "gs_text34 = data['gs_text34'].copy()\n",
    "#plt.rcParams['figure.figsize'] = [40, 5]\n",
    "plt.bar(gs_text34.value_counts().index, gs_text34.value_counts())"
   ]
  },
  {
   "cell_type": "markdown",
   "id": "af714e3e",
   "metadata": {},
   "source": [
    "Al haber 48 tipos de muertes en el archivo .csv no se llega a apreciar bien la informacion. Por lo tanto vamos a hacer grafico mas pequeño para poder entenderlo mejor"
   ]
  },
  {
   "cell_type": "code",
   "execution_count": 6,
   "id": "0bc8508f",
   "metadata": {},
   "outputs": [
    {
     "data": {
      "text/plain": [
       "<BarContainer object of 10 artists>"
      ]
     },
     "execution_count": 6,
     "metadata": {},
     "output_type": "execute_result"
    },
    {
     "data": {
      "image/png": "[encoded data removed]",
      "text/plain": [
       "<Figure size 640x480 with 1 Axes>"
      ]
     },
     "metadata": {},
     "output_type": "display_data"
    }
   ],
   "source": [
    "little_gs_text34 = gs_text34[0:14]\n",
    "plt.bar(little_gs_text34.value_counts().index, little_gs_text34.value_counts())"
   ]
  },
  {
   "cell_type": "markdown",
   "id": "d39c391d",
   "metadata": {},
   "source": [
    "Seleccionando solamente las 15 primera instancias del archivo .csv podemos apreciar que han habido 10 tipos diferentes de muerte y que solo dos de ellas se han repetido, en este caso 3 veces; Pneumonia y Malaria. "
   ]
  },
  {
   "cell_type": "markdown",
   "id": "9ad04e0e",
   "metadata": {},
   "source": [
    "<h3>Ver clases presentes y cadencia de cada una</h3>"
   ]
  },
  {
   "cell_type": "code",
   "execution_count": 7,
   "id": "3ba3644d",
   "metadata": {},
   "outputs": [
    {
     "name": "stdout",
     "output_type": "stream",
     "text": [
      "gs_text34\n",
      "AIDS                                    154\n",
      "Acute Myocardial Infarction             206\n",
      "Asthma                                   17\n",
      "Birth asphyxia                          171\n",
      "Bite of Venomous Animal                  61\n",
      "Breast Cancer                            62\n",
      "COPD                                     80\n",
      "Cervical Cancer                          22\n",
      "Cirrhosis                               142\n",
      "Colorectal Cancer                        37\n",
      "Congenital malformation                  92\n",
      "Diabetes                                174\n",
      "Diarrhea/Dysentery                      229\n",
      "Drowning                                 91\n",
      "Encephalitis                             23\n",
      "Epilepsy                                 20\n",
      "Esophageal Cancer                         5\n",
      "Falls                                   114\n",
      "Fires                                   104\n",
      "Hemorrhagic fever                        22\n",
      "Homicide                                 74\n",
      "Leukemia/Lymphomas                       46\n",
      "Lung Cancer                              32\n",
      "Malaria                                  67\n",
      "Maternal                                213\n",
      "Measles                                  15\n",
      "Meningitis                               27\n",
      "Meningitis/Sepsis                        30\n",
      "Other Cancers                            17\n",
      "Other Cardiovascular Diseases           213\n",
      "Other Defined Causes of Child Deaths     83\n",
      "Other Digestive Diseases                 22\n",
      "Other Infectious Diseases               168\n",
      "Other Injuries                           53\n",
      "Other Non-communicable Diseases         253\n",
      "Pneumonia                               524\n",
      "Poisonings                               56\n",
      "Preterm Delivery                        229\n",
      "Prostate Cancer                          11\n",
      "Renal Failure                           191\n",
      "Road Traffic                            148\n",
      "Sepsis                                   62\n",
      "Stillbirth                              328\n",
      "Stomach Cancer                           17\n",
      "Stroke                                  298\n",
      "Suicide                                  71\n",
      "TB                                      109\n",
      "Violent Death                            26\n",
      "dtype: int64\n"
     ]
    }
   ],
   "source": [
    "print(data.groupby('gs_text34').size())"
   ]
  },
  {
   "cell_type": "markdown",
   "id": "97f9bdc8",
   "metadata": {},
   "source": [
    "(Explicacion de que hay muchos tipos de conjuntos y vamos a agruparla en grupos mas grandes segun 'VA_ConsistentRelabelling.txt')"
   ]
  },
  {
   "cell_type": "markdown",
   "id": "76f17c1c",
   "metadata": {},
   "source": [
    "<h3>Agrupar clases en grupos amas grandes</h3>"
   ]
  },
  {
   "cell_type": "code",
   "execution_count": 8,
   "id": "d723bf71",
   "metadata": {
    "scrolled": false
   },
   "outputs": [
    {
     "name": "stderr",
     "output_type": "stream",
     "text": [
      "/tmp/ipykernel_5943/1287412024.py:68: SettingWithCopyWarning: \n",
      "A value is trying to be set on a copy of a slice from a DataFrame\n",
      "\n",
      "See the caveats in the documentation: https://pandas.pydata.org/pandas-docs/stable/user_guide/indexing.html#returning-a-view-versus-a-copy\n",
      "  data['gs_text34'][i] = 'Diseases of Respiratory System'\n",
      "/tmp/ipykernel_5943/1287412024.py:93: SettingWithCopyWarning: \n",
      "A value is trying to be set on a copy of a slice from a DataFrame\n",
      "\n",
      "See the caveats in the documentation: https://pandas.pydata.org/pandas-docs/stable/user_guide/indexing.html#returning-a-view-versus-a-copy\n",
      "  data['gs_text34'][i] = 'Pregnancy, childbirth and the puerperiu'\n",
      "/tmp/ipykernel_5943/1287412024.py:126: SettingWithCopyWarning: \n",
      "A value is trying to be set on a copy of a slice from a DataFrame\n",
      "\n",
      "See the caveats in the documentation: https://pandas.pydata.org/pandas-docs/stable/user_guide/indexing.html#returning-a-view-versus-a-copy\n",
      "  data['gs_text34'][i] = 'External Causes of Morbidity and Mortality'\n",
      "/tmp/ipykernel_5943/1287412024.py:105: SettingWithCopyWarning: \n",
      "A value is trying to be set on a copy of a slice from a DataFrame\n",
      "\n",
      "See the caveats in the documentation: https://pandas.pydata.org/pandas-docs/stable/user_guide/indexing.html#returning-a-view-versus-a-copy\n",
      "  data['gs_text34'][i] = 'Injury, Poisoning and External Causes'\n",
      "/tmp/ipykernel_5943/1287412024.py:91: SettingWithCopyWarning: \n",
      "A value is trying to be set on a copy of a slice from a DataFrame\n",
      "\n",
      "See the caveats in the documentation: https://pandas.pydata.org/pandas-docs/stable/user_guide/indexing.html#returning-a-view-versus-a-copy\n",
      "  data['gs_text34'][i] = 'Pregnancy, childbirth and the puerperiu'\n",
      "/tmp/ipykernel_5943/1287412024.py:46: SettingWithCopyWarning: \n",
      "A value is trying to be set on a copy of a slice from a DataFrame\n",
      "\n",
      "See the caveats in the documentation: https://pandas.pydata.org/pandas-docs/stable/user_guide/indexing.html#returning-a-view-versus-a-copy\n",
      "  data['gs_text34'][i] = 'Neoplasms'\n",
      "/tmp/ipykernel_5943/1287412024.py:61: SettingWithCopyWarning: \n",
      "A value is trying to be set on a copy of a slice from a DataFrame\n",
      "\n",
      "See the caveats in the documentation: https://pandas.pydata.org/pandas-docs/stable/user_guide/indexing.html#returning-a-view-versus-a-copy\n",
      "  data['gs_text34'][i] = 'Diseases of the circulatory system'\n",
      "/tmp/ipykernel_5943/1287412024.py:17: SettingWithCopyWarning: \n",
      "A value is trying to be set on a copy of a slice from a DataFrame\n",
      "\n",
      "See the caveats in the documentation: https://pandas.pydata.org/pandas-docs/stable/user_guide/indexing.html#returning-a-view-versus-a-copy\n",
      "  data['gs_text34'][i] = 'Certain infectious and Parasitic Diseases'\n",
      "/tmp/ipykernel_5943/1287412024.py:63: SettingWithCopyWarning: \n",
      "A value is trying to be set on a copy of a slice from a DataFrame\n",
      "\n",
      "See the caveats in the documentation: https://pandas.pydata.org/pandas-docs/stable/user_guide/indexing.html#returning-a-view-versus-a-copy\n",
      "  data['gs_text34'][i] = 'Diseases of the circulatory system'\n",
      "/tmp/ipykernel_5943/1287412024.py:122: SettingWithCopyWarning: \n",
      "A value is trying to be set on a copy of a slice from a DataFrame\n",
      "\n",
      "See the caveats in the documentation: https://pandas.pydata.org/pandas-docs/stable/user_guide/indexing.html#returning-a-view-versus-a-copy\n",
      "  data['gs_text34'][i] = 'External Causes of Morbidity and Mortality'\n",
      "/tmp/ipykernel_5943/1287412024.py:36: SettingWithCopyWarning: \n",
      "A value is trying to be set on a copy of a slice from a DataFrame\n",
      "\n",
      "See the caveats in the documentation: https://pandas.pydata.org/pandas-docs/stable/user_guide/indexing.html#returning-a-view-versus-a-copy\n",
      "  data['gs_text34'][i] = 'Neoplasms'\n",
      "/tmp/ipykernel_5943/1287412024.py:89: SettingWithCopyWarning: \n",
      "A value is trying to be set on a copy of a slice from a DataFrame\n",
      "\n",
      "See the caveats in the documentation: https://pandas.pydata.org/pandas-docs/stable/user_guide/indexing.html#returning-a-view-versus-a-copy\n",
      "  data['gs_text34'][i] = 'Pregnancy, childbirth and the puerperiu'\n",
      "/tmp/ipykernel_5943/1287412024.py:11: SettingWithCopyWarning: \n",
      "A value is trying to be set on a copy of a slice from a DataFrame\n",
      "\n",
      "See the caveats in the documentation: https://pandas.pydata.org/pandas-docs/stable/user_guide/indexing.html#returning-a-view-versus-a-copy\n",
      "  data['gs_text34'][i] = 'Certain infectious and Parasitic Diseases'\n",
      "/tmp/ipykernel_5943/1287412024.py:9: SettingWithCopyWarning: \n",
      "A value is trying to be set on a copy of a slice from a DataFrame\n",
      "\n",
      "See the caveats in the documentation: https://pandas.pydata.org/pandas-docs/stable/user_guide/indexing.html#returning-a-view-versus-a-copy\n",
      "  data['gs_text34'][i] = 'Certain infectious and Parasitic Diseases'\n",
      "/tmp/ipykernel_5943/1287412024.py:112: SettingWithCopyWarning: \n",
      "A value is trying to be set on a copy of a slice from a DataFrame\n",
      "\n",
      "See the caveats in the documentation: https://pandas.pydata.org/pandas-docs/stable/user_guide/indexing.html#returning-a-view-versus-a-copy\n",
      "  data['gs_text34'][i] = 'External Causes of Morbidity and Mortality'\n",
      "/tmp/ipykernel_5943/1287412024.py:77: SettingWithCopyWarning: \n",
      "A value is trying to be set on a copy of a slice from a DataFrame\n",
      "\n",
      "See the caveats in the documentation: https://pandas.pydata.org/pandas-docs/stable/user_guide/indexing.html#returning-a-view-versus-a-copy\n",
      "  data['gs_text34'][i] = 'Diseases of the Digestive System'\n",
      "/tmp/ipykernel_5943/1287412024.py:114: SettingWithCopyWarning: \n",
      "A value is trying to be set on a copy of a slice from a DataFrame\n",
      "\n",
      "See the caveats in the documentation: https://pandas.pydata.org/pandas-docs/stable/user_guide/indexing.html#returning-a-view-versus-a-copy\n",
      "  data['gs_text34'][i] = 'External Causes of Morbidity and Mortality'\n",
      "/tmp/ipykernel_5943/1287412024.py:5: SettingWithCopyWarning: \n",
      "A value is trying to be set on a copy of a slice from a DataFrame\n",
      "\n",
      "See the caveats in the documentation: https://pandas.pydata.org/pandas-docs/stable/user_guide/indexing.html#returning-a-view-versus-a-copy\n",
      "  data['gs_text34'][i] = 'Certain infectious and Parasitic Diseases'\n",
      "/tmp/ipykernel_5943/1287412024.py:30: SettingWithCopyWarning: \n",
      "A value is trying to be set on a copy of a slice from a DataFrame\n",
      "\n",
      "See the caveats in the documentation: https://pandas.pydata.org/pandas-docs/stable/user_guide/indexing.html#returning-a-view-versus-a-copy\n",
      "  data['gs_text34'][i] = 'Neoplasms'\n",
      "/tmp/ipykernel_5943/1287412024.py:84: SettingWithCopyWarning: \n",
      "A value is trying to be set on a copy of a slice from a DataFrame\n",
      "\n",
      "See the caveats in the documentation: https://pandas.pydata.org/pandas-docs/stable/user_guide/indexing.html#returning-a-view-versus-a-copy\n",
      "  data['gs_text34'][i] = 'Diseases of the Genitourinary System'\n",
      "/tmp/ipykernel_5943/1287412024.py:118: SettingWithCopyWarning: \n",
      "A value is trying to be set on a copy of a slice from a DataFrame\n",
      "\n",
      "See the caveats in the documentation: https://pandas.pydata.org/pandas-docs/stable/user_guide/indexing.html#returning-a-view-versus-a-copy\n",
      "  data['gs_text34'][i] = 'External Causes of Morbidity and Mortality'\n",
      "/tmp/ipykernel_5943/1287412024.py:51: SettingWithCopyWarning: \n",
      "A value is trying to be set on a copy of a slice from a DataFrame\n",
      "\n",
      "See the caveats in the documentation: https://pandas.pydata.org/pandas-docs/stable/user_guide/indexing.html#returning-a-view-versus-a-copy\n",
      "  data['gs_text34'][i] = 'Endocrine, Nutritional and Metabolic Diseases'\n",
      "/tmp/ipykernel_5943/1287412024.py:107: SettingWithCopyWarning: \n",
      "A value is trying to be set on a copy of a slice from a DataFrame\n",
      "\n",
      "See the caveats in the documentation: https://pandas.pydata.org/pandas-docs/stable/user_guide/indexing.html#returning-a-view-versus-a-copy\n",
      "  data['gs_text34'][i] = 'Injury, Poisoning and External Causes'\n",
      "/tmp/ipykernel_5943/1287412024.py:3: SettingWithCopyWarning: \n",
      "A value is trying to be set on a copy of a slice from a DataFrame\n",
      "\n",
      "See the caveats in the documentation: https://pandas.pydata.org/pandas-docs/stable/user_guide/indexing.html#returning-a-view-versus-a-copy\n",
      "  data['gs_text34'][i] = 'Certain infectious and Parasitic Diseases'\n",
      "/tmp/ipykernel_5943/1287412024.py:13: SettingWithCopyWarning: \n",
      "A value is trying to be set on a copy of a slice from a DataFrame\n",
      "\n",
      "See the caveats in the documentation: https://pandas.pydata.org/pandas-docs/stable/user_guide/indexing.html#returning-a-view-versus-a-copy\n",
      "  data['gs_text34'][i] = 'Certain infectious and Parasitic Diseases'\n",
      "/tmp/ipykernel_5943/1287412024.py:72: SettingWithCopyWarning: \n",
      "A value is trying to be set on a copy of a slice from a DataFrame\n",
      "\n",
      "See the caveats in the documentation: https://pandas.pydata.org/pandas-docs/stable/user_guide/indexing.html#returning-a-view-versus-a-copy\n",
      "  data['gs_text34'][i] = 'Diseases of Respiratory System'\n",
      "/tmp/ipykernel_5943/1287412024.py:120: SettingWithCopyWarning: \n",
      "A value is trying to be set on a copy of a slice from a DataFrame\n",
      "\n",
      "See the caveats in the documentation: https://pandas.pydata.org/pandas-docs/stable/user_guide/indexing.html#returning-a-view-versus-a-copy\n",
      "  data['gs_text34'][i] = 'External Causes of Morbidity and Mortality'\n",
      "/tmp/ipykernel_5943/1287412024.py:32: SettingWithCopyWarning: \n",
      "A value is trying to be set on a copy of a slice from a DataFrame\n",
      "\n",
      "See the caveats in the documentation: https://pandas.pydata.org/pandas-docs/stable/user_guide/indexing.html#returning-a-view-versus-a-copy\n",
      "  data['gs_text34'][i] = 'Neoplasms'\n",
      "/tmp/ipykernel_5943/1287412024.py:79: SettingWithCopyWarning: \n",
      "A value is trying to be set on a copy of a slice from a DataFrame\n",
      "\n",
      "See the caveats in the documentation: https://pandas.pydata.org/pandas-docs/stable/user_guide/indexing.html#returning-a-view-versus-a-copy\n",
      "  data['gs_text34'][i] = 'Diseases of the Digestive System'\n",
      "/tmp/ipykernel_5943/1287412024.py:21: SettingWithCopyWarning: \n",
      "A value is trying to be set on a copy of a slice from a DataFrame\n",
      "\n",
      "See the caveats in the documentation: https://pandas.pydata.org/pandas-docs/stable/user_guide/indexing.html#returning-a-view-versus-a-copy\n",
      "  data['gs_text34'][i] = 'Certain infectious and Parasitic Diseases'\n",
      "/tmp/ipykernel_5943/1287412024.py:116: SettingWithCopyWarning: \n",
      "A value is trying to be set on a copy of a slice from a DataFrame\n",
      "\n",
      "See the caveats in the documentation: https://pandas.pydata.org/pandas-docs/stable/user_guide/indexing.html#returning-a-view-versus-a-copy\n",
      "  data['gs_text34'][i] = 'External Causes of Morbidity and Mortality'\n",
      "/tmp/ipykernel_5943/1287412024.py:38: SettingWithCopyWarning: \n",
      "A value is trying to be set on a copy of a slice from a DataFrame\n",
      "\n",
      "See the caveats in the documentation: https://pandas.pydata.org/pandas-docs/stable/user_guide/indexing.html#returning-a-view-versus-a-copy\n",
      "  data['gs_text34'][i] = 'Neoplasms'\n",
      "/tmp/ipykernel_5943/1287412024.py:19: SettingWithCopyWarning: \n",
      "A value is trying to be set on a copy of a slice from a DataFrame\n",
      "\n",
      "See the caveats in the documentation: https://pandas.pydata.org/pandas-docs/stable/user_guide/indexing.html#returning-a-view-versus-a-copy\n",
      "  data['gs_text34'][i] = 'Certain infectious and Parasitic Diseases'\n",
      "/tmp/ipykernel_5943/1287412024.py:56: SettingWithCopyWarning: \n",
      "A value is trying to be set on a copy of a slice from a DataFrame\n",
      "\n",
      "See the caveats in the documentation: https://pandas.pydata.org/pandas-docs/stable/user_guide/indexing.html#returning-a-view-versus-a-copy\n",
      "  data['gs_text34'][i] = 'Diseases of the Nervous System'\n",
      "/tmp/ipykernel_5943/1287412024.py:34: SettingWithCopyWarning: \n",
      "A value is trying to be set on a copy of a slice from a DataFrame\n",
      "\n",
      "See the caveats in the documentation: https://pandas.pydata.org/pandas-docs/stable/user_guide/indexing.html#returning-a-view-versus-a-copy\n",
      "  data['gs_text34'][i] = 'Neoplasms'\n",
      "/tmp/ipykernel_5943/1287412024.py:124: SettingWithCopyWarning: \n",
      "A value is trying to be set on a copy of a slice from a DataFrame\n",
      "\n",
      "See the caveats in the documentation: https://pandas.pydata.org/pandas-docs/stable/user_guide/indexing.html#returning-a-view-versus-a-copy\n",
      "  data['gs_text34'][i] = 'External Causes of Morbidity and Mortality'\n",
      "/tmp/ipykernel_5943/1287412024.py:42: SettingWithCopyWarning: \n",
      "A value is trying to be set on a copy of a slice from a DataFrame\n",
      "\n",
      "See the caveats in the documentation: https://pandas.pydata.org/pandas-docs/stable/user_guide/indexing.html#returning-a-view-versus-a-copy\n",
      "  data['gs_text34'][i] = 'Neoplasms'\n",
      "/tmp/ipykernel_5943/1287412024.py:40: SettingWithCopyWarning: \n",
      "A value is trying to be set on a copy of a slice from a DataFrame\n",
      "\n",
      "See the caveats in the documentation: https://pandas.pydata.org/pandas-docs/stable/user_guide/indexing.html#returning-a-view-versus-a-copy\n",
      "  data['gs_text34'][i] = 'Neoplasms'\n",
      "/tmp/ipykernel_5943/1287412024.py:44: SettingWithCopyWarning: \n",
      "A value is trying to be set on a copy of a slice from a DataFrame\n",
      "\n",
      "See the caveats in the documentation: https://pandas.pydata.org/pandas-docs/stable/user_guide/indexing.html#returning-a-view-versus-a-copy\n",
      "  data['gs_text34'][i] = 'Neoplasms'\n",
      "/tmp/ipykernel_5943/1287412024.py:15: SettingWithCopyWarning: \n",
      "A value is trying to be set on a copy of a slice from a DataFrame\n",
      "\n",
      "See the caveats in the documentation: https://pandas.pydata.org/pandas-docs/stable/user_guide/indexing.html#returning-a-view-versus-a-copy\n",
      "  data['gs_text34'][i] = 'Certain infectious and Parasitic Diseases'\n",
      "/tmp/ipykernel_5943/1287412024.py:70: SettingWithCopyWarning: \n",
      "A value is trying to be set on a copy of a slice from a DataFrame\n",
      "\n",
      "See the caveats in the documentation: https://pandas.pydata.org/pandas-docs/stable/user_guide/indexing.html#returning-a-view-versus-a-copy\n",
      "  data['gs_text34'][i] = 'Diseases of Respiratory System'\n"
     ]
    },
    {
     "name": "stdout",
     "output_type": "stream",
     "text": [
      "gs_text34\n",
      "Birth asphyxia                                   171\n",
      "Certain infectious and Parasitic Diseases        716\n",
      "Congenital malformation                           92\n",
      "Diseases of Respiratory System                   621\n",
      "Diseases of the Digestive System                 164\n",
      "Diseases of the Genitourinary System             191\n",
      "Diseases of the Nervous System                    20\n",
      "Diseases of the circulatory system               504\n",
      "Endocrine, Nutritional and Metabolic Diseases    174\n",
      "External Causes of Morbidity and Mortality       681\n",
      "Hemorrhagic fever                                 22\n",
      "Injury, Poisoning and External Causes            117\n",
      "Neoplasms                                        249\n",
      "Other Cardiovascular Diseases                    213\n",
      "Other Defined Causes of Child Deaths              83\n",
      "Other Infectious Diseases                        168\n",
      "Other Non-communicable Diseases                  253\n",
      "Pregnancy, childbirth and the puerperiu          770\n",
      "dtype: int64\n"
     ]
    }
   ],
   "source": [
    "for i in range(len(data)):\n",
    "    if data['gs_text34'][i] == 'TB':\n",
    "        data['gs_text34'][i] = 'Certain infectious and Parasitic Diseases'  \n",
    "    if data['gs_text34'][i] == 'Diarrhea/Dysentery':\n",
    "        data['gs_text34'][i] = 'Certain infectious and Parasitic Diseases'\n",
    "    if data['gs_text34'][i] == 'Other infectious diseases':\n",
    "        data['gs_text34'][i] = 'Certain infectious and Parasitic Diseases'\n",
    "    if data['gs_text34'][i] == 'AIDS':\n",
    "        data['gs_text34'][i] = 'Certain infectious and Parasitic Diseases'\n",
    "    if data['gs_text34'][i] == 'Sepsis':\n",
    "        data['gs_text34'][i] = 'Certain infectious and Parasitic Diseases'\n",
    "    if data['gs_text34'][i] == 'Meningitis':\n",
    "        data['gs_text34'][i] = 'Certain infectious and Parasitic Diseases'\n",
    "    if data['gs_text34'][i] == 'Meningitis/Sepsis':\n",
    "        data['gs_text34'][i] = 'Certain infectious and Parasitic Diseases'\n",
    "    if data['gs_text34'][i] == 'Malaria':\n",
    "        data['gs_text34'][i] = 'Certain infectious and Parasitic Diseases'\n",
    "    if data['gs_text34'][i] == 'Encephalitis':\n",
    "        data['gs_text34'][i] = 'Certain infectious and Parasitic Diseases'\n",
    "    if data['gs_text34'][i] == 'Measles':\n",
    "        data['gs_text34'][i] = 'Certain infectious and Parasitic Diseases'\n",
    "    if data['gs_text34'][i] == 'Hemorrhagic Fever':\n",
    "        data['gs_text34'][i] = 'Certain infectious and Parasitic Diseases'\n",
    "    if data['gs_text34'][i] == 'TB':\n",
    "        data['gs_text34'][i] = 'Certain infectious and Parasitic Diseases'\n",
    "    \n",
    "    #----------------------------------------------------------------------------------\n",
    "    \n",
    "    if data['gs_text34'][i] == 'Leukemia/Lymphomas':\n",
    "        data['gs_text34'][i] = 'Neoplasms'\n",
    "    if data['gs_text34'][i] == 'Colorectal Cancer':\n",
    "        data['gs_text34'][i] = 'Neoplasms'\n",
    "    if data['gs_text34'][i] == 'Lung Cancer':\n",
    "        data['gs_text34'][i] = 'Neoplasms'\n",
    "    if data['gs_text34'][i] == 'Cervical Cancer':\n",
    "        data['gs_text34'][i] = 'Neoplasms'\n",
    "    if data['gs_text34'][i] == 'Breast Cancer':\n",
    "        data['gs_text34'][i] = 'Neoplasms'\n",
    "    if data['gs_text34'][i] == 'Stomach Cancer':\n",
    "        data['gs_text34'][i] = 'Neoplasms'\n",
    "    if data['gs_text34'][i] == 'Prostate Cancer':\n",
    "        data['gs_text34'][i] = 'Neoplasms'\n",
    "    if data['gs_text34'][i] == 'Esophageal Cancer':\n",
    "        data['gs_text34'][i] = 'Neoplasms'\n",
    "    if data['gs_text34'][i] == 'Other Cancers':\n",
    "        data['gs_text34'][i] = 'Neoplasms'\n",
    "        \n",
    "    #----------------------------------------------------------------------------------\n",
    "\n",
    "    if data['gs_text34'][i] == 'Diabetes':\n",
    "        data['gs_text34'][i] = 'Endocrine, Nutritional and Metabolic Diseases'\n",
    "    \n",
    "    #----------------------------------------------------------------------------------\n",
    "\n",
    "    if data['gs_text34'][i] == 'Epilepsy':\n",
    "        data['gs_text34'][i] = 'Diseases of the Nervous System'\n",
    "    \n",
    "    #----------------------------------------------------------------------------------\n",
    "\n",
    "    if data['gs_text34'][i] == 'Stroke':\n",
    "        data['gs_text34'][i] = 'Diseases of the circulatory system'\n",
    "    if data['gs_text34'][i] == 'Acute Myocardial Infarction':\n",
    "        data['gs_text34'][i] = 'Diseases of the circulatory system'\n",
    "    \n",
    "    #----------------------------------------------------------------------------------\n",
    "    \n",
    "    if data['gs_text34'][i] == 'Pneumonia':\n",
    "        data['gs_text34'][i] = 'Diseases of Respiratory System'\n",
    "    if data['gs_text34'][i] == 'Asthma':\n",
    "        data['gs_text34'][i] = 'Diseases of Respiratory System'\n",
    "    if data['gs_text34'][i] == 'COPD':\n",
    "        data['gs_text34'][i] = 'Diseases of Respiratory System'\n",
    "\n",
    "    #----------------------------------------------------------------------------------\n",
    "\n",
    "    if data['gs_text34'][i] == 'Cirrhosis':\n",
    "        data['gs_text34'][i] = 'Diseases of the Digestive System'\n",
    "    if data['gs_text34'][i] == 'Other Digestive Diseases':\n",
    "        data['gs_text34'][i] = 'Diseases of the Digestive System'\n",
    "    \n",
    "    #----------------------------------------------------------------------------------\n",
    "\n",
    "    if data['gs_text34'][i] == 'Renal Failure':\n",
    "        data['gs_text34'][i] = 'Diseases of the Genitourinary System'\n",
    "    \n",
    "    #----------------------------------------------------------------------------------\n",
    "    \n",
    "    if data['gs_text34'][i] == 'Preterm Delivery':\n",
    "        data['gs_text34'][i] = 'Pregnancy, childbirth and the puerperiu'\n",
    "    if data['gs_text34'][i] == 'Stillbirth':\n",
    "        data['gs_text34'][i] = 'Pregnancy, childbirth and the puerperiu'\n",
    "    if data['gs_text34'][i] == 'Maternal':\n",
    "        data['gs_text34'][i] = 'Pregnancy, childbirth and the puerperiu'\n",
    "    if data['gs_text34'][i] == 'Birth Asphyxia':\n",
    "        data['gs_text34'][i] = 'Pregnancy, childbirth and the puerperiu'\n",
    "        \n",
    "    #----------------------------------------------------------------------------------\n",
    "\n",
    "    if data['gs_text34'][i] == 'Congenital Malformations':\n",
    "        data['gs_text34'][i] = 'Congenital Malformations'\n",
    "    \n",
    "    #----------------------------------------------------------------------------------\n",
    "    \n",
    "    if data['gs_text34'][i] == 'Bite of Venomous Animal':\n",
    "        data['gs_text34'][i] = 'Injury, Poisoning and External Causes'\n",
    "    if data['gs_text34'][i] == 'Poisonings':\n",
    "        data['gs_text34'][i] = 'Injury, Poisoning and External Causes'\n",
    "        \n",
    "    #----------------------------------------------------------------------------------\n",
    "    \n",
    "    if data['gs_text34'][i] == 'Road Traffic':\n",
    "        data['gs_text34'][i] = 'External Causes of Morbidity and Mortality'\n",
    "    if data['gs_text34'][i] == 'Falls':\n",
    "        data['gs_text34'][i] = 'External Causes of Morbidity and Mortality'\n",
    "    if data['gs_text34'][i] == 'Homicide':\n",
    "        data['gs_text34'][i] = 'External Causes of Morbidity and Mortality'\n",
    "    if data['gs_text34'][i] == 'Fires':\n",
    "        data['gs_text34'][i] = 'External Causes of Morbidity and Mortality'\n",
    "    if data['gs_text34'][i] == 'Drowning':\n",
    "        data['gs_text34'][i] = 'External Causes of Morbidity and Mortality'\n",
    "    if data['gs_text34'][i] == 'Suicide':\n",
    "        data['gs_text34'][i] = 'External Causes of Morbidity and Mortality'\n",
    "    if data['gs_text34'][i] == 'Violent Death':\n",
    "        data['gs_text34'][i] = 'External Causes of Morbidity and Mortality'\n",
    "    if data['gs_text34'][i] == 'Other Injuries':\n",
    "        data['gs_text34'][i] = 'External Causes of Morbidity and Mortality'\n",
    "    \n",
    "print(data.groupby('gs_text34').size())"
   ]
  },
  {
   "cell_type": "code",
   "execution_count": 10,
   "id": "503d515f",
   "metadata": {},
   "outputs": [
    {
     "name": "stdout",
     "output_type": "stream",
     "text": [
      "Numero de enfermedades: 18\n"
     ]
    }
   ],
   "source": [
    "print('Numero de enfermedades: ' + str(len(np.unique(data['gs_text34']))))"
   ]
  },
  {
   "cell_type": "markdown",
   "id": "62d8724e",
   "metadata": {},
   "source": [
    "<h3>Quitar columnas que no den infarmacion.</h3>"
   ]
  },
  {
   "cell_type": "markdown",
   "id": "82b06430",
   "metadata": {},
   "source": [
    "(Explicacion)"
   ]
  },
  {
   "cell_type": "code",
   "execution_count": 14,
   "id": "d1c3edf9",
   "metadata": {
    "scrolled": false
   },
   "outputs": [
    {
     "data": {
      "text/html": [
       "<div>\n",
       "<style scoped>\n",
       "    .dataframe tbody tr th:only-of-type {\n",
       "        vertical-align: middle;\n",
       "    }\n",
       "\n",
       "    .dataframe tbody tr th {\n",
       "        vertical-align: top;\n",
       "    }\n",
       "\n",
       "    .dataframe thead th {\n",
       "        text-align: right;\n",
       "    }\n",
       "</style>\n",
       "<table border=\"1\" class=\"dataframe\">\n",
       "  <thead>\n",
       "    <tr style=\"text-align: right;\">\n",
       "      <th></th>\n",
       "      <th>module</th>\n",
       "      <th>age</th>\n",
       "      <th>sex</th>\n",
       "      <th>site</th>\n",
       "      <th>open_response</th>\n",
       "      <th>gs_text34</th>\n",
       "    </tr>\n",
       "  </thead>\n",
       "  <tbody>\n",
       "    <tr>\n",
       "      <th>0</th>\n",
       "      <td>Adult</td>\n",
       "      <td>65.0</td>\n",
       "      <td>1</td>\n",
       "      <td>Bohol</td>\n",
       "      <td>date he felt a lower back pain and had fever s...</td>\n",
       "      <td>Diseases of Respiratory System</td>\n",
       "    </tr>\n",
       "    <tr>\n",
       "      <th>1</th>\n",
       "      <td>Child</td>\n",
       "      <td>0.0</td>\n",
       "      <td>2</td>\n",
       "      <td>Dar</td>\n",
       "      <td>the caese of death is pneumonia</td>\n",
       "      <td>Diseases of Respiratory System</td>\n",
       "    </tr>\n",
       "    <tr>\n",
       "      <th>2</th>\n",
       "      <td>Adult</td>\n",
       "      <td>23.0</td>\n",
       "      <td>2</td>\n",
       "      <td>AP</td>\n",
       "      <td>i took my wife to a private hospital for tubec...</td>\n",
       "      <td>Pregnancy, childbirth and the puerperiu</td>\n",
       "    </tr>\n",
       "    <tr>\n",
       "      <th>3</th>\n",
       "      <td>Adult</td>\n",
       "      <td>40.0</td>\n",
       "      <td>1</td>\n",
       "      <td>AP</td>\n",
       "      <td>he went to the work on sunday there were # iro...</td>\n",
       "      <td>External Causes of Morbidity and Mortality</td>\n",
       "    </tr>\n",
       "    <tr>\n",
       "      <th>4</th>\n",
       "      <td>Adult</td>\n",
       "      <td>55.0</td>\n",
       "      <td>1</td>\n",
       "      <td>UP</td>\n",
       "      <td>the deceased had died due to a snake bite the ...</td>\n",
       "      <td>Injury, Poisoning and External Causes</td>\n",
       "    </tr>\n",
       "  </tbody>\n",
       "</table>\n",
       "</div>"
      ],
      "text/plain": [
       "  module   age  sex   site                                      open_response  \\\n",
       "0  Adult  65.0    1  Bohol  date he felt a lower back pain and had fever s...   \n",
       "1  Child   0.0    2    Dar                    the caese of death is pneumonia   \n",
       "2  Adult  23.0    2     AP  i took my wife to a private hospital for tubec...   \n",
       "3  Adult  40.0    1     AP  he went to the work on sunday there were # iro...   \n",
       "4  Adult  55.0    1     UP  the deceased had died due to a snake bite the ...   \n",
       "\n",
       "                                    gs_text34  \n",
       "0              Diseases of Respiratory System  \n",
       "1              Diseases of Respiratory System  \n",
       "2     Pregnancy, childbirth and the puerperiu  \n",
       "3  External Causes of Morbidity and Mortality  \n",
       "4       Injury, Poisoning and External Causes  "
      ]
     },
     "execution_count": 14,
     "metadata": {},
     "output_type": "execute_result"
    }
   ],
   "source": [
    "data.drop('newid', axis=1, inplace=True)\n",
    "data.head(5)"
   ]
  },
  {
   "cell_type": "markdown",
   "id": "e796691d",
   "metadata": {},
   "source": [
    "<h3>Información de los datos numericos.</h3>"
   ]
  },
  {
   "cell_type": "code",
   "execution_count": 15,
   "id": "2c877504",
   "metadata": {
    "scrolled": false
   },
   "outputs": [
    {
     "name": "stderr",
     "output_type": "stream",
     "text": [
      "/tmp/ipykernel_5276/391882538.py:1: FutureWarning: In a future version of pandas all arguments of DataFrame.drop except for the argument 'labels' will be keyword-only.\n",
      "  data.drop(['gs_text34'],1).hist()\n"
     ]
    },
    {
     "data": {
      "image/png": "[encoded data removed]",
      "text/plain": [
       "<Figure size 640x480 with 2 Axes>"
      ]
     },
     "metadata": {},
     "output_type": "display_data"
    }
   ],
   "source": [
    "data.drop(['gs_text34'],1).hist()\n",
    "plt.show()"
   ]
  },
  {
   "cell_type": "markdown",
   "id": "41055650",
   "metadata": {},
   "source": [
    "(Explicacion)"
   ]
  },
  {
   "cell_type": "code",
   "execution_count": 16,
   "id": "4f77c23c",
   "metadata": {},
   "outputs": [
    {
     "data": {
      "text/html": [
       "<div>\n",
       "<style scoped>\n",
       "    .dataframe tbody tr th:only-of-type {\n",
       "        vertical-align: middle;\n",
       "    }\n",
       "\n",
       "    .dataframe tbody tr th {\n",
       "        vertical-align: top;\n",
       "    }\n",
       "\n",
       "    .dataframe thead th {\n",
       "        text-align: right;\n",
       "    }\n",
       "</style>\n",
       "<table border=\"1\" class=\"dataframe\">\n",
       "  <thead>\n",
       "    <tr style=\"text-align: right;\">\n",
       "      <th></th>\n",
       "      <th>age</th>\n",
       "      <th>sex</th>\n",
       "    </tr>\n",
       "  </thead>\n",
       "  <tbody>\n",
       "    <tr>\n",
       "      <th>count</th>\n",
       "      <td>5209.000000</td>\n",
       "      <td>5209.000000</td>\n",
       "    </tr>\n",
       "    <tr>\n",
       "      <th>mean</th>\n",
       "      <td>31.702197</td>\n",
       "      <td>1.431369</td>\n",
       "    </tr>\n",
       "    <tr>\n",
       "      <th>std</th>\n",
       "      <td>27.360152</td>\n",
       "      <td>0.495315</td>\n",
       "    </tr>\n",
       "    <tr>\n",
       "      <th>min</th>\n",
       "      <td>0.000000</td>\n",
       "      <td>1.000000</td>\n",
       "    </tr>\n",
       "    <tr>\n",
       "      <th>25%</th>\n",
       "      <td>1.000000</td>\n",
       "      <td>1.000000</td>\n",
       "    </tr>\n",
       "    <tr>\n",
       "      <th>50%</th>\n",
       "      <td>30.000000</td>\n",
       "      <td>1.000000</td>\n",
       "    </tr>\n",
       "    <tr>\n",
       "      <th>75%</th>\n",
       "      <td>55.000000</td>\n",
       "      <td>2.000000</td>\n",
       "    </tr>\n",
       "    <tr>\n",
       "      <th>max</th>\n",
       "      <td>99.000000</td>\n",
       "      <td>2.000000</td>\n",
       "    </tr>\n",
       "  </tbody>\n",
       "</table>\n",
       "</div>"
      ],
      "text/plain": [
       "               age          sex\n",
       "count  5209.000000  5209.000000\n",
       "mean     31.702197     1.431369\n",
       "std      27.360152     0.495315\n",
       "min       0.000000     1.000000\n",
       "25%       1.000000     1.000000\n",
       "50%      30.000000     1.000000\n",
       "75%      55.000000     2.000000\n",
       "max      99.000000     2.000000"
      ]
     },
     "execution_count": 16,
     "metadata": {},
     "output_type": "execute_result"
    }
   ],
   "source": [
    "data.describe()"
   ]
  },
  {
   "cell_type": "markdown",
   "id": "c76d4beb",
   "metadata": {},
   "source": [
    "(Explicacion)"
   ]
  },
  {
   "cell_type": "markdown",
   "id": "649b4df1",
   "metadata": {},
   "source": [
    "<h1>PreProcesamiento</h1>"
   ]
  },
  {
   "cell_type": "markdown",
   "id": "34795231",
   "metadata": {},
   "source": [
    "Vamos a dividir el preprocesamiento en distintos pasos:\n",
    "\n",
    "1.\n",
    "\n",
    "2.\n",
    "\n",
    "3.\n",
    "\n",
    "4.\n",
    "\n",
    "5.\n",
    "\n",
    "6."
   ]
  },
  {
   "cell_type": "markdown",
   "id": "4a4ec80c",
   "metadata": {},
   "source": [
    "<h2>1. Pasar a minusculas el texto</h2>"
   ]
  },
  {
   "cell_type": "markdown",
   "id": "ebb02a30",
   "metadata": {},
   "source": [
    "(Explicacion)\n",
    "CREO QUE YA ESTABA TODO EN MINUSCULAS"
   ]
  },
  {
   "cell_type": "code",
   "execution_count": 17,
   "id": "0a9c86c1",
   "metadata": {},
   "outputs": [
    {
     "data": {
      "text/html": [
       "<div>\n",
       "<style scoped>\n",
       "    .dataframe tbody tr th:only-of-type {\n",
       "        vertical-align: middle;\n",
       "    }\n",
       "\n",
       "    .dataframe tbody tr th {\n",
       "        vertical-align: top;\n",
       "    }\n",
       "\n",
       "    .dataframe thead th {\n",
       "        text-align: right;\n",
       "    }\n",
       "</style>\n",
       "<table border=\"1\" class=\"dataframe\">\n",
       "  <thead>\n",
       "    <tr style=\"text-align: right;\">\n",
       "      <th></th>\n",
       "      <th>module</th>\n",
       "      <th>age</th>\n",
       "      <th>sex</th>\n",
       "      <th>site</th>\n",
       "      <th>open_response</th>\n",
       "      <th>gs_text34</th>\n",
       "    </tr>\n",
       "  </thead>\n",
       "  <tbody>\n",
       "    <tr>\n",
       "      <th>0</th>\n",
       "      <td>Adult</td>\n",
       "      <td>65.0</td>\n",
       "      <td>1</td>\n",
       "      <td>Bohol</td>\n",
       "      <td>date he felt a lower back pain and had fever s...</td>\n",
       "      <td>Diseases of Respiratory System</td>\n",
       "    </tr>\n",
       "    <tr>\n",
       "      <th>1</th>\n",
       "      <td>Child</td>\n",
       "      <td>0.0</td>\n",
       "      <td>2</td>\n",
       "      <td>Dar</td>\n",
       "      <td>the caese of death is pneumonia</td>\n",
       "      <td>Diseases of Respiratory System</td>\n",
       "    </tr>\n",
       "    <tr>\n",
       "      <th>2</th>\n",
       "      <td>Adult</td>\n",
       "      <td>23.0</td>\n",
       "      <td>2</td>\n",
       "      <td>AP</td>\n",
       "      <td>i took my wife to a private hospital for tubec...</td>\n",
       "      <td>Pregnancy, childbirth and the puerperiu</td>\n",
       "    </tr>\n",
       "    <tr>\n",
       "      <th>3</th>\n",
       "      <td>Adult</td>\n",
       "      <td>40.0</td>\n",
       "      <td>1</td>\n",
       "      <td>AP</td>\n",
       "      <td>he went to the work on sunday there were # iro...</td>\n",
       "      <td>External Causes of Morbidity and Mortality</td>\n",
       "    </tr>\n",
       "    <tr>\n",
       "      <th>4</th>\n",
       "      <td>Adult</td>\n",
       "      <td>55.0</td>\n",
       "      <td>1</td>\n",
       "      <td>UP</td>\n",
       "      <td>the deceased had died due to a snake bite the ...</td>\n",
       "      <td>Injury, Poisoning and External Causes</td>\n",
       "    </tr>\n",
       "  </tbody>\n",
       "</table>\n",
       "</div>"
      ],
      "text/plain": [
       "  module   age  sex   site                                      open_response  \\\n",
       "0  Adult  65.0    1  Bohol  date he felt a lower back pain and had fever s...   \n",
       "1  Child   0.0    2    Dar                    the caese of death is pneumonia   \n",
       "2  Adult  23.0    2     AP  i took my wife to a private hospital for tubec...   \n",
       "3  Adult  40.0    1     AP  he went to the work on sunday there were # iro...   \n",
       "4  Adult  55.0    1     UP  the deceased had died due to a snake bite the ...   \n",
       "\n",
       "                                    gs_text34  \n",
       "0              Diseases of Respiratory System  \n",
       "1              Diseases of Respiratory System  \n",
       "2     Pregnancy, childbirth and the puerperiu  \n",
       "3  External Causes of Morbidity and Mortality  \n",
       "4       Injury, Poisoning and External Causes  "
      ]
     },
     "execution_count": 17,
     "metadata": {},
     "output_type": "execute_result"
    }
   ],
   "source": [
    "data[\"open_response\"] = data[\"open_response\"].str.lower()\n",
    "data.head(5)"
   ]
  },
  {
   "cell_type": "markdown",
   "id": "3b10190e",
   "metadata": {},
   "source": [
    "<h2>2. Quitar marcas de puntuacion</h2>"
   ]
  },
  {
   "cell_type": "markdown",
   "id": "d656beba",
   "metadata": {},
   "source": [
    "(Explicacion)"
   ]
  },
  {
   "cell_type": "code",
   "execution_count": 18,
   "id": "128c0fb5",
   "metadata": {},
   "outputs": [],
   "source": [
    "def quitar_marcasPuntuacion(text:str):\n",
    "    return text.translate(str.maketrans('', '', string.punctuation))"
   ]
  },
  {
   "cell_type": "code",
   "execution_count": 19,
   "id": "3d75e926",
   "metadata": {},
   "outputs": [
    {
     "name": "stdout",
     "output_type": "stream",
     "text": [
      "my mother suffered from fever continuously for # months she was treated in hospital where the doctor prescribed medicines but fever did not control later she was taken to hospital since the treatment was so expensive in the hospital the doctor advised us to take her to hospital but we did not take her to hospital but took her to hospital and admitted there since stains were present all over the body the doctors were firm to see the test results on the stains to proceed further on treatment by that time they were not specific to name the disease she was dead when the treatment was going on\n"
     ]
    }
   ],
   "source": [
    "print(data[\"open_response\"][45])"
   ]
  },
  {
   "cell_type": "code",
   "execution_count": 20,
   "id": "6a85c1fd",
   "metadata": {},
   "outputs": [],
   "source": [
    "data[\"open_response\"] = data[\"open_response\"].apply(lambda txt: quitar_marcasPuntuacion(txt))\n"
   ]
  },
  {
   "cell_type": "code",
   "execution_count": 21,
   "id": "790cf94f",
   "metadata": {},
   "outputs": [
    {
     "name": "stdout",
     "output_type": "stream",
     "text": [
      "my mother suffered from fever continuously for  months she was treated in hospital where the doctor prescribed medicines but fever did not control later she was taken to hospital since the treatment was so expensive in the hospital the doctor advised us to take her to hospital but we did not take her to hospital but took her to hospital and admitted there since stains were present all over the body the doctors were firm to see the test results on the stains to proceed further on treatment by that time they were not specific to name the disease she was dead when the treatment was going on\n"
     ]
    }
   ],
   "source": [
    "print(data[\"open_response\"][45])"
   ]
  },
  {
   "cell_type": "markdown",
   "id": "26996e13",
   "metadata": {},
   "source": [
    "<h2>3. Extender las contracciones</h2>"
   ]
  },
  {
   "cell_type": "code",
   "execution_count": 22,
   "id": "e255e0f5",
   "metadata": {},
   "outputs": [],
   "source": [
    "def extender_contracciones(text):    \n",
    "    expanded_words = []   \n",
    "    for word in text.split():\n",
    "      # using contractions.fix to expand the shortened words\n",
    "      expanded_words.append(contractions.fix(word))  \n",
    "\n",
    "    return ' '.join(expanded_words)"
   ]
  },
  {
   "cell_type": "code",
   "execution_count": 23,
   "id": "63aca26d",
   "metadata": {},
   "outputs": [
    {
     "name": "stdout",
     "output_type": "stream",
     "text": [
      "I've to go the toilet, I can't wait.\n",
      "I have to go the toilet, I cannot wait.\n"
     ]
    }
   ],
   "source": [
    "cntrtn_text = \"I've to go the toilet, I can't wait.\"\n",
    "print(cntrtn_text)\n",
    "print(extender_contracciones(cntrtn_text))"
   ]
  },
  {
   "cell_type": "code",
   "execution_count": 24,
   "id": "702997b5",
   "metadata": {},
   "outputs": [],
   "source": [
    "data[\"open_response\"] = data[\"open_response\"].apply(lambda txt: extender_contracciones(txt))"
   ]
  },
  {
   "cell_type": "markdown",
   "id": "f90a8f59",
   "metadata": {},
   "source": [
    "<h2>4. Stemming</h2>"
   ]
  },
  {
   "cell_type": "code",
   "execution_count": 81,
   "id": "159e17e7",
   "metadata": {},
   "outputs": [],
   "source": [
    "#stemmer = PorterStemmer()\n",
    "\n",
    "#def stem_palabras(text):\n",
    "#    return \" \".join([stemmer.stem(word) for word in text.split()])"
   ]
  },
  {
   "cell_type": "code",
   "execution_count": 82,
   "id": "aea4d359",
   "metadata": {},
   "outputs": [
    {
     "name": "stdout",
     "output_type": "stream",
     "text": [
      "date he felt a lower back pain and had fever so we went to hospital here in place the doctor was suspecting arthritis he was ordered for x ray so we went to hospital lab results are all normal but suddenly the complained of difficulty in breathing the doctor said that he has pneumonia oxygen inhalation was started and still he was weak and his blood sugar was elevated and he died the ff day\n"
     ]
    }
   ],
   "source": [
    "#print(data[\"open_response\"][0])"
   ]
  },
  {
   "cell_type": "code",
   "execution_count": 83,
   "id": "d6c577f8",
   "metadata": {},
   "outputs": [],
   "source": [
    "#data[\"open_response\"] = data[\"open_response\"].apply(lambda text: stem_palabras(text))"
   ]
  },
  {
   "cell_type": "code",
   "execution_count": 84,
   "id": "83569135",
   "metadata": {
    "scrolled": true
   },
   "outputs": [
    {
     "name": "stdout",
     "output_type": "stream",
     "text": [
      "date he felt a lower back pain and had fever so we went to hospit here in place the doctor wa suspect arthriti he wa order for x ray so we went to hospit lab result are all normal but suddenli the complain of difficulti in breath the doctor said that he ha pneumonia oxygen inhal wa start and still he wa weak and hi blood sugar wa elev and he die the ff day\n"
     ]
    }
   ],
   "source": [
    "#print(data[\"open_response\"][0])"
   ]
  },
  {
   "cell_type": "markdown",
   "id": "336e97ce",
   "metadata": {},
   "source": [
    "<h2>5. Lematizacion</h2>"
   ]
  },
  {
   "cell_type": "code",
   "execution_count": 25,
   "id": "42172462",
   "metadata": {},
   "outputs": [
    {
     "name": "stderr",
     "output_type": "stream",
     "text": [
      "[nltk_data] Downloading package wordnet to /home/peio/nltk_data...\n",
      "[nltk_data]   Package wordnet is already up-to-date!\n",
      "[nltk_data] Downloading package omw-1.4 to /home/peio/nltk_data...\n",
      "[nltk_data]   Package omw-1.4 is already up-to-date!\n"
     ]
    }
   ],
   "source": [
    "lemmatizer = WordNetLemmatizer()\n",
    "nltk.download('wordnet')\n",
    "nltk.download('omw-1.4')\n",
    "\n",
    "def lematizar_palabras(text):\n",
    "    return \" \".join([lemmatizer.lemmatize(word) for word in text.split()])"
   ]
  },
  {
   "cell_type": "code",
   "execution_count": 26,
   "id": "fdd68417",
   "metadata": {},
   "outputs": [
    {
     "name": "stdout",
     "output_type": "stream",
     "text": [
      "date he felt a lower back pain and had fever so we went to hospital here in place the doctor was suspecting arthritis he was ordered for x ray so we went to hospital lab results are all normal but suddenly the complained of difficulty in breathing the doctor said that he has pneumonia oxygen inhalation was started and still he was weak and his blood sugar was elevated and he died the ff day\n"
     ]
    }
   ],
   "source": [
    "print(data[\"open_response\"][0])"
   ]
  },
  {
   "cell_type": "code",
   "execution_count": 27,
   "id": "6819bcbb",
   "metadata": {},
   "outputs": [],
   "source": [
    "data[\"open_response\"] = data[\"open_response\"].apply(lambda text: lematizar_palabras(text))"
   ]
  },
  {
   "cell_type": "code",
   "execution_count": 28,
   "id": "a2f9f199",
   "metadata": {
    "scrolled": true
   },
   "outputs": [
    {
     "name": "stdout",
     "output_type": "stream",
     "text": [
      "date he felt a lower back pain and had fever so we went to hospital here in place the doctor wa suspecting arthritis he wa ordered for x ray so we went to hospital lab result are all normal but suddenly the complained of difficulty in breathing the doctor said that he ha pneumonia oxygen inhalation wa started and still he wa weak and his blood sugar wa elevated and he died the ff day\n"
     ]
    }
   ],
   "source": [
    "print(data[\"open_response\"][0])"
   ]
  },
  {
   "cell_type": "markdown",
   "id": "a757fbea",
   "metadata": {},
   "source": [
    "<h2>6. Quitar las stopwords</h2>"
   ]
  },
  {
   "cell_type": "markdown",
   "id": "2d9e87b8",
   "metadata": {},
   "source": [
    "(Explicacion)"
   ]
  },
  {
   "cell_type": "code",
   "execution_count": 29,
   "id": "4906790e",
   "metadata": {},
   "outputs": [
    {
     "name": "stderr",
     "output_type": "stream",
     "text": [
      "[nltk_data] Downloading package stopwords to /home/peio/nltk_data...\n",
      "[nltk_data]   Package stopwords is already up-to-date!\n"
     ]
    }
   ],
   "source": [
    "nltk.download('stopwords')\n",
    "def quitar_stopwords(txt:str):\n",
    "    return ' '.join([word for word in txt.split(' ') if word not in stopwords.words('english')])"
   ]
  },
  {
   "cell_type": "code",
   "execution_count": 30,
   "id": "191e72c7",
   "metadata": {},
   "outputs": [
    {
     "name": "stdout",
     "output_type": "stream",
     "text": [
      "the caese of death is pneumonia\n"
     ]
    }
   ],
   "source": [
    "print(data[\"open_response\"][1])"
   ]
  },
  {
   "cell_type": "code",
   "execution_count": 31,
   "id": "64e9173e",
   "metadata": {},
   "outputs": [],
   "source": [
    "data[\"open_response\"] = data[\"open_response\"].apply(lambda txt: quitar_stopwords(txt))\n"
   ]
  },
  {
   "cell_type": "code",
   "execution_count": 32,
   "id": "49742175",
   "metadata": {},
   "outputs": [
    {
     "name": "stdout",
     "output_type": "stream",
     "text": [
      "caese death pneumonia\n"
     ]
    }
   ],
   "source": [
    "print(data[\"open_response\"][1])"
   ]
  },
  {
   "cell_type": "markdown",
   "id": "fd6f6b9d",
   "metadata": {},
   "source": [
    "<h2>7. Quitar espacios extra</h2>"
   ]
  },
  {
   "cell_type": "code",
   "execution_count": 33,
   "id": "39d70fdc",
   "metadata": {},
   "outputs": [],
   "source": [
    "def quitar_espaciosExtra(txt:str):\n",
    "    return re.sub(' +', ' ', txt)"
   ]
  },
  {
   "cell_type": "code",
   "execution_count": 34,
   "id": "c3798190",
   "metadata": {},
   "outputs": [
    {
     "name": "stdout",
     "output_type": "stream",
     "text": [
      "I've   to  go the toilet,  I can't   wait.\n",
      "I've to go the toilet, I can't wait.\n"
     ]
    }
   ],
   "source": [
    "xtrSpc_text = \"I've   to  go the toilet,  I can't   wait.\"\n",
    "print(xtrSpc_text)\n",
    "print(quitar_espaciosExtra(xtrSpc_text))"
   ]
  },
  {
   "cell_type": "code",
   "execution_count": 35,
   "id": "51b91d41",
   "metadata": {},
   "outputs": [],
   "source": [
    "data[\"open_response\"] = data[\"open_response\"].apply(lambda text: quitar_espaciosExtra(text))"
   ]
  },
  {
   "cell_type": "markdown",
   "id": "6915dda3",
   "metadata": {},
   "source": [
    "k-means eta document embedding, "
   ]
  }
 ],
 "metadata": {
  "kernelspec": {
   "display_name": "Python 3.10.4 ('md')",
   "language": "python",
   "name": "python3"
  },
  "language_info": {
   "codemirror_mode": {
    "name": "ipython",
    "version": 3
   },
   "file_extension": ".py",
   "mimetype": "text/x-python",
   "name": "python",
   "nbconvert_exporter": "python",
   "pygments_lexer": "ipython3",
   "version": "3.10.4"
  },
  "vscode": {
   "interpreter": {
    "hash": "17668a3252f0274529318a4c14b3a263a7f0a3154d5611c765fcf67a245c8972"
   }
  }
 },
 "nbformat": 4,
 "nbformat_minor": 5
}
