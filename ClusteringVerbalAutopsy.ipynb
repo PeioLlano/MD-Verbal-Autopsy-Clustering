{
 "cells": [
  {
   "cell_type": "markdown",
   "id": "c6c3537c",
   "metadata": {},
   "source": [
    "<center><h1>Verbal Autopsy Clustering</h1></center>\n",
    "\n",
    "\n",
    "<h1>Presentacion y datos</h1>"
   ]
  },
  {
   "cell_type": "markdown",
   "id": "e2c4b002",
   "metadata": {},
   "source": [
    "<h1>Bibliografia de momento</h1>\n",
    "\n",
    "https://www.analyticsvidhya.com/blog/2021/06/must-known-techniques-for-text-preprocessing-in-nlp/\n",
    "\n",
    "https://www.researchgate.net/publication/339529230_Preprocessing_Techniques_for_Text_Mining_-_An_Overview\n",
    "***"
   ]
  },
  {
   "cell_type": "markdown",
   "id": "ce354040",
   "metadata": {},
   "source": [
    "Primero vamos a importar todo lo necesario para llevar a cabo la tarea de clustering"
   ]
  },
  {
   "cell_type": "code",
   "execution_count": 68,
   "id": "46271617",
   "metadata": {},
   "outputs": [],
   "source": [
    "import pandas as pd\n",
    "import numpy as np\n",
    "import matplotlib.pyplot as plt\n",
    "import string\n",
    "import nltk\n",
    "from nltk.corpus import stopwords\n",
    "import contractions\n",
    "from nltk.stem import WordNetLemmatizer\n",
    "import re\n",
    "from nltk.stem import PorterStemmer"
   ]
  },
  {
   "cell_type": "markdown",
   "id": "8022896a",
   "metadata": {},
   "source": [
    "Antes de empezar debemos crear un objeto a partir del archivo .csv que hemos escogido."
   ]
  },
  {
   "cell_type": "code",
   "execution_count": 69,
   "id": "460e131c",
   "metadata": {},
   "outputs": [],
   "source": [
    "data = pd.read_csv(\"data/cleaned_PHMRC_VAI_redacted_free_text.train.csv\")"
   ]
  },
  {
   "cell_type": "markdown",
   "id": "81c76ad3",
   "metadata": {},
   "source": [
    "Una vez creado aqui tenemos un pequeño ejemplo de lo que esta compuesto."
   ]
  },
  {
   "cell_type": "code",
   "execution_count": 70,
   "id": "49643e30",
   "metadata": {},
   "outputs": [
    {
     "data": {
      "text/html": [
       "<div>\n",
       "<style scoped>\n",
       "    .dataframe tbody tr th:only-of-type {\n",
       "        vertical-align: middle;\n",
       "    }\n",
       "\n",
       "    .dataframe tbody tr th {\n",
       "        vertical-align: top;\n",
       "    }\n",
       "\n",
       "    .dataframe thead th {\n",
       "        text-align: right;\n",
       "    }\n",
       "</style>\n",
       "<table border=\"1\" class=\"dataframe\">\n",
       "  <thead>\n",
       "    <tr style=\"text-align: right;\">\n",
       "      <th></th>\n",
       "      <th>newid</th>\n",
       "      <th>module</th>\n",
       "      <th>age</th>\n",
       "      <th>sex</th>\n",
       "      <th>site</th>\n",
       "      <th>open_response</th>\n",
       "      <th>gs_text34</th>\n",
       "    </tr>\n",
       "  </thead>\n",
       "  <tbody>\n",
       "    <tr>\n",
       "      <th>5204</th>\n",
       "      <td>7120</td>\n",
       "      <td>Adult</td>\n",
       "      <td>42.0</td>\n",
       "      <td>1</td>\n",
       "      <td>UP</td>\n",
       "      <td>the deceased fell ill in the morning his breat...</td>\n",
       "      <td>Diabetes</td>\n",
       "    </tr>\n",
       "    <tr>\n",
       "      <th>5205</th>\n",
       "      <td>6101</td>\n",
       "      <td>Adult</td>\n",
       "      <td>14.0</td>\n",
       "      <td>2</td>\n",
       "      <td>Pemba</td>\n",
       "      <td>the respondant expained that the decease death...</td>\n",
       "      <td>Other Infectious Diseases</td>\n",
       "    </tr>\n",
       "    <tr>\n",
       "      <th>5206</th>\n",
       "      <td>6455</td>\n",
       "      <td>Adult</td>\n",
       "      <td>80.0</td>\n",
       "      <td>2</td>\n",
       "      <td>UP</td>\n",
       "      <td>the deceased had been admitted to hospital whe...</td>\n",
       "      <td>Pneumonia</td>\n",
       "    </tr>\n",
       "    <tr>\n",
       "      <th>5207</th>\n",
       "      <td>5026</td>\n",
       "      <td>Adult</td>\n",
       "      <td>70.0</td>\n",
       "      <td>1</td>\n",
       "      <td>UP</td>\n",
       "      <td>the deceased had been suffering from breathing...</td>\n",
       "      <td>Other Cardiovascular Diseases</td>\n",
       "    </tr>\n",
       "    <tr>\n",
       "      <th>5208</th>\n",
       "      <td>5326</td>\n",
       "      <td>Adult</td>\n",
       "      <td>30.0</td>\n",
       "      <td>1</td>\n",
       "      <td>Dar</td>\n",
       "      <td>the deceased died because of being hitted by a...</td>\n",
       "      <td>Other Injuries</td>\n",
       "    </tr>\n",
       "  </tbody>\n",
       "</table>\n",
       "</div>"
      ],
      "text/plain": [
       "      newid module   age  sex   site  \\\n",
       "5204   7120  Adult  42.0    1     UP   \n",
       "5205   6101  Adult  14.0    2  Pemba   \n",
       "5206   6455  Adult  80.0    2     UP   \n",
       "5207   5026  Adult  70.0    1     UP   \n",
       "5208   5326  Adult  30.0    1    Dar   \n",
       "\n",
       "                                          open_response  \\\n",
       "5204  the deceased fell ill in the morning his breat...   \n",
       "5205  the respondant expained that the decease death...   \n",
       "5206  the deceased had been admitted to hospital whe...   \n",
       "5207  the deceased had been suffering from breathing...   \n",
       "5208  the deceased died because of being hitted by a...   \n",
       "\n",
       "                          gs_text34  \n",
       "5204                       Diabetes  \n",
       "5205      Other Infectious Diseases  \n",
       "5206                      Pneumonia  \n",
       "5207  Other Cardiovascular Diseases  \n",
       "5208                 Other Injuries  "
      ]
     },
     "execution_count": 70,
     "metadata": {},
     "output_type": "execute_result"
    }
   ],
   "source": [
    "data.tail(5)"
   ]
  },
  {
   "cell_type": "markdown",
   "id": "c3db2170",
   "metadata": {},
   "source": [
    "Primero valoraremos si alguna de las instancias tiene algun valor null."
   ]
  },
  {
   "cell_type": "code",
   "execution_count": 71,
   "id": "77f03d4f",
   "metadata": {},
   "outputs": [
    {
     "name": "stdout",
     "output_type": "stream",
     "text": [
      "<class 'pandas.core.frame.DataFrame'>\n",
      "RangeIndex: 5209 entries, 0 to 5208\n",
      "Data columns (total 7 columns):\n",
      " #   Column         Non-Null Count  Dtype  \n",
      "---  ------         --------------  -----  \n",
      " 0   newid          5209 non-null   int64  \n",
      " 1   module         5209 non-null   object \n",
      " 2   age            5209 non-null   float64\n",
      " 3   sex            5209 non-null   int64  \n",
      " 4   site           5209 non-null   object \n",
      " 5   open_response  5209 non-null   object \n",
      " 6   gs_text34      5209 non-null   object \n",
      "dtypes: float64(1), int64(2), object(4)\n",
      "memory usage: 285.0+ KB\n"
     ]
    }
   ],
   "source": [
    "data_null = data.info()"
   ]
  },
  {
   "cell_type": "markdown",
   "id": "19e9f6af",
   "metadata": {},
   "source": [
    "No se aprecia ninguna entidad con valor null.\n",
    "\n",
    "Ahora vamos a ilustrar la informacion de las muertes en un grafico."
   ]
  },
  {
   "cell_type": "code",
   "execution_count": 72,
   "id": "43ab0569",
   "metadata": {},
   "outputs": [
    {
     "name": "stdout",
     "output_type": "stream",
     "text": [
      "En esta columna hay 5209 tipos de enfermedades\n"
     ]
    },
    {
     "data": {
      "text/plain": [
       "<BarContainer object of 48 artists>"
      ]
     },
     "execution_count": 72,
     "metadata": {},
     "output_type": "execute_result"
    },
    {
     "data": {
      "image/png": "[encoded data removed]",
      "text/plain": [
       "<Figure size 640x480 with 1 Axes>"
      ]
     },
     "metadata": {},
     "output_type": "display_data"
    }
   ],
   "source": [
    "gs_text34 = data['gs_text34'].copy()\n",
    "#plt.rcParams['figure.figsize'] = [40, 5]\n",
    "print('En esta columna hay', gs_text34.size ,'tipos de enfermedades')\n",
    "plt.bar(gs_text34.value_counts().index, gs_text34.value_counts())"
   ]
  },
  {
   "cell_type": "markdown",
   "id": "af714e3e",
   "metadata": {},
   "source": [
    "Al haber 48 tipos de muertes en el archivo .csv no se llega a apreciar bien la informacion. Por lo tanto vamos a hacer grafico mas pequeño para poder entenderlo mejor"
   ]
  },
  {
   "cell_type": "code",
   "execution_count": 73,
   "id": "0bc8508f",
   "metadata": {},
   "outputs": [
    {
     "data": {
      "text/plain": [
       "<BarContainer object of 10 artists>"
      ]
     },
     "execution_count": 73,
     "metadata": {},
     "output_type": "execute_result"
    },
    {
     "data": {
      "image/png": "[encoded data removed]",
      "text/plain": [
       "<Figure size 640x480 with 1 Axes>"
      ]
     },
     "metadata": {},
     "output_type": "display_data"
    }
   ],
   "source": [
    "little_gs_text34 = gs_text34[0:14]\n",
    "plt.bar(little_gs_text34.value_counts().index, little_gs_text34.value_counts())"
   ]
  },
  {
   "cell_type": "markdown",
   "id": "d39c391d",
   "metadata": {},
   "source": [
    "Seleccionando solamente las 15 primera instancias del archivo .csv podemos apreciar que han habido 10 tipos diferentes de muerte y que solo dos de ellas se han repetido, en este caso 3 veces; Pneumonia y Malaria. "
   ]
  },
  {
   "cell_type": "markdown",
   "id": "649b4df1",
   "metadata": {},
   "source": [
    "<h1>PreProcesamiento</h1>"
   ]
  },
  {
   "cell_type": "markdown",
   "id": "34795231",
   "metadata": {},
   "source": [
    "Vamos a dividir el preprocesamiento en distintos pasos:\n",
    "\n",
    "1.\n",
    "\n",
    "2.\n",
    "\n",
    "3.\n",
    "\n",
    "4.\n",
    "\n",
    "5.\n",
    "\n",
    "6."
   ]
  },
  {
   "cell_type": "markdown",
   "id": "62d8724e",
   "metadata": {},
   "source": [
    "<h2>Quitar columnas que no den infarmacion.</h2>"
   ]
  },
  {
   "cell_type": "markdown",
   "id": "82b06430",
   "metadata": {},
   "source": [
    "(Explicacion)"
   ]
  },
  {
   "cell_type": "code",
   "execution_count": 74,
   "id": "d1c3edf9",
   "metadata": {},
   "outputs": [
    {
     "data": {
      "text/html": [
       "<div>\n",
       "<style scoped>\n",
       "    .dataframe tbody tr th:only-of-type {\n",
       "        vertical-align: middle;\n",
       "    }\n",
       "\n",
       "    .dataframe tbody tr th {\n",
       "        vertical-align: top;\n",
       "    }\n",
       "\n",
       "    .dataframe thead th {\n",
       "        text-align: right;\n",
       "    }\n",
       "</style>\n",
       "<table border=\"1\" class=\"dataframe\">\n",
       "  <thead>\n",
       "    <tr style=\"text-align: right;\">\n",
       "      <th></th>\n",
       "      <th>module</th>\n",
       "      <th>age</th>\n",
       "      <th>sex</th>\n",
       "      <th>site</th>\n",
       "      <th>open_response</th>\n",
       "      <th>gs_text34</th>\n",
       "    </tr>\n",
       "  </thead>\n",
       "  <tbody>\n",
       "    <tr>\n",
       "      <th>0</th>\n",
       "      <td>Adult</td>\n",
       "      <td>65.0</td>\n",
       "      <td>1</td>\n",
       "      <td>Bohol</td>\n",
       "      <td>date he felt a lower back pain and had fever s...</td>\n",
       "      <td>Pneumonia</td>\n",
       "    </tr>\n",
       "    <tr>\n",
       "      <th>1</th>\n",
       "      <td>Child</td>\n",
       "      <td>0.0</td>\n",
       "      <td>2</td>\n",
       "      <td>Dar</td>\n",
       "      <td>the caese of death is pneumonia</td>\n",
       "      <td>Pneumonia</td>\n",
       "    </tr>\n",
       "    <tr>\n",
       "      <th>2</th>\n",
       "      <td>Adult</td>\n",
       "      <td>23.0</td>\n",
       "      <td>2</td>\n",
       "      <td>AP</td>\n",
       "      <td>i took my wife to a private hospital for tubec...</td>\n",
       "      <td>Maternal</td>\n",
       "    </tr>\n",
       "    <tr>\n",
       "      <th>3</th>\n",
       "      <td>Adult</td>\n",
       "      <td>40.0</td>\n",
       "      <td>1</td>\n",
       "      <td>AP</td>\n",
       "      <td>he went to the work on sunday there were # iro...</td>\n",
       "      <td>Other Injuries</td>\n",
       "    </tr>\n",
       "    <tr>\n",
       "      <th>4</th>\n",
       "      <td>Adult</td>\n",
       "      <td>55.0</td>\n",
       "      <td>1</td>\n",
       "      <td>UP</td>\n",
       "      <td>the deceased had died due to a snake bite the ...</td>\n",
       "      <td>Bite of Venomous Animal</td>\n",
       "    </tr>\n",
       "  </tbody>\n",
       "</table>\n",
       "</div>"
      ],
      "text/plain": [
       "  module   age  sex   site                                      open_response  \\\n",
       "0  Adult  65.0    1  Bohol  date he felt a lower back pain and had fever s...   \n",
       "1  Child   0.0    2    Dar                    the caese of death is pneumonia   \n",
       "2  Adult  23.0    2     AP  i took my wife to a private hospital for tubec...   \n",
       "3  Adult  40.0    1     AP  he went to the work on sunday there were # iro...   \n",
       "4  Adult  55.0    1     UP  the deceased had died due to a snake bite the ...   \n",
       "\n",
       "                 gs_text34  \n",
       "0                Pneumonia  \n",
       "1                Pneumonia  \n",
       "2                 Maternal  \n",
       "3           Other Injuries  \n",
       "4  Bite of Venomous Animal  "
      ]
     },
     "execution_count": 74,
     "metadata": {},
     "output_type": "execute_result"
    }
   ],
   "source": [
    "data.drop('newid', axis=1, inplace=True)\n",
    "data.head(5)"
   ]
  },
  {
   "cell_type": "markdown",
   "id": "4a4ec80c",
   "metadata": {},
   "source": [
    "<h2>1. Pasar a minusculas el texto</h2>"
   ]
  },
  {
   "cell_type": "markdown",
   "id": "ebb02a30",
   "metadata": {},
   "source": [
    "(Explicacion)\n",
    "CREO QUE YA ESTABA TODO EN MINUSCULAS"
   ]
  },
  {
   "cell_type": "code",
   "execution_count": 75,
   "id": "0a9c86c1",
   "metadata": {},
   "outputs": [
    {
     "data": {
      "text/html": [
       "<div>\n",
       "<style scoped>\n",
       "    .dataframe tbody tr th:only-of-type {\n",
       "        vertical-align: middle;\n",
       "    }\n",
       "\n",
       "    .dataframe tbody tr th {\n",
       "        vertical-align: top;\n",
       "    }\n",
       "\n",
       "    .dataframe thead th {\n",
       "        text-align: right;\n",
       "    }\n",
       "</style>\n",
       "<table border=\"1\" class=\"dataframe\">\n",
       "  <thead>\n",
       "    <tr style=\"text-align: right;\">\n",
       "      <th></th>\n",
       "      <th>module</th>\n",
       "      <th>age</th>\n",
       "      <th>sex</th>\n",
       "      <th>site</th>\n",
       "      <th>open_response</th>\n",
       "      <th>gs_text34</th>\n",
       "    </tr>\n",
       "  </thead>\n",
       "  <tbody>\n",
       "    <tr>\n",
       "      <th>0</th>\n",
       "      <td>Adult</td>\n",
       "      <td>65.0</td>\n",
       "      <td>1</td>\n",
       "      <td>Bohol</td>\n",
       "      <td>date he felt a lower back pain and had fever s...</td>\n",
       "      <td>Pneumonia</td>\n",
       "    </tr>\n",
       "    <tr>\n",
       "      <th>1</th>\n",
       "      <td>Child</td>\n",
       "      <td>0.0</td>\n",
       "      <td>2</td>\n",
       "      <td>Dar</td>\n",
       "      <td>the caese of death is pneumonia</td>\n",
       "      <td>Pneumonia</td>\n",
       "    </tr>\n",
       "    <tr>\n",
       "      <th>2</th>\n",
       "      <td>Adult</td>\n",
       "      <td>23.0</td>\n",
       "      <td>2</td>\n",
       "      <td>AP</td>\n",
       "      <td>i took my wife to a private hospital for tubec...</td>\n",
       "      <td>Maternal</td>\n",
       "    </tr>\n",
       "    <tr>\n",
       "      <th>3</th>\n",
       "      <td>Adult</td>\n",
       "      <td>40.0</td>\n",
       "      <td>1</td>\n",
       "      <td>AP</td>\n",
       "      <td>he went to the work on sunday there were # iro...</td>\n",
       "      <td>Other Injuries</td>\n",
       "    </tr>\n",
       "    <tr>\n",
       "      <th>4</th>\n",
       "      <td>Adult</td>\n",
       "      <td>55.0</td>\n",
       "      <td>1</td>\n",
       "      <td>UP</td>\n",
       "      <td>the deceased had died due to a snake bite the ...</td>\n",
       "      <td>Bite of Venomous Animal</td>\n",
       "    </tr>\n",
       "  </tbody>\n",
       "</table>\n",
       "</div>"
      ],
      "text/plain": [
       "  module   age  sex   site                                      open_response  \\\n",
       "0  Adult  65.0    1  Bohol  date he felt a lower back pain and had fever s...   \n",
       "1  Child   0.0    2    Dar                    the caese of death is pneumonia   \n",
       "2  Adult  23.0    2     AP  i took my wife to a private hospital for tubec...   \n",
       "3  Adult  40.0    1     AP  he went to the work on sunday there were # iro...   \n",
       "4  Adult  55.0    1     UP  the deceased had died due to a snake bite the ...   \n",
       "\n",
       "                 gs_text34  \n",
       "0                Pneumonia  \n",
       "1                Pneumonia  \n",
       "2                 Maternal  \n",
       "3           Other Injuries  \n",
       "4  Bite of Venomous Animal  "
      ]
     },
     "execution_count": 75,
     "metadata": {},
     "output_type": "execute_result"
    }
   ],
   "source": [
    "data[\"open_response\"] = data[\"open_response\"].str.lower()\n",
    "data.head(5)"
   ]
  },
  {
   "cell_type": "markdown",
   "id": "3b10190e",
   "metadata": {},
   "source": [
    "<h2>2. Quitar marcas de puntuacion</h2>"
   ]
  },
  {
   "cell_type": "markdown",
   "id": "d656beba",
   "metadata": {},
   "source": [
    "(Explicacion)"
   ]
  },
  {
   "cell_type": "code",
   "execution_count": 76,
   "id": "128c0fb5",
   "metadata": {},
   "outputs": [],
   "source": [
    "def quitar_marcasPuntuacion(text:str):\n",
    "    return text.translate(str.maketrans('', '', string.punctuation))"
   ]
  },
  {
   "cell_type": "code",
   "execution_count": 77,
   "id": "3d75e926",
   "metadata": {},
   "outputs": [
    {
     "name": "stdout",
     "output_type": "stream",
     "text": [
      "my mother suffered from fever continuously for # months she was treated in hospital where the doctor prescribed medicines but fever did not control later she was taken to hospital since the treatment was so expensive in the hospital the doctor advised us to take her to hospital but we did not take her to hospital but took her to hospital and admitted there since stains were present all over the body the doctors were firm to see the test results on the stains to proceed further on treatment by that time they were not specific to name the disease she was dead when the treatment was going on\n"
     ]
    }
   ],
   "source": [
    "print(data[\"open_response\"][45])"
   ]
  },
  {
   "cell_type": "code",
   "execution_count": 78,
   "id": "6a85c1fd",
   "metadata": {},
   "outputs": [],
   "source": [
    "data[\"open_response\"] = data[\"open_response\"].apply(lambda txt: quitar_marcasPuntuacion(txt))\n"
   ]
  },
  {
   "cell_type": "code",
   "execution_count": 79,
   "id": "790cf94f",
   "metadata": {},
   "outputs": [
    {
     "name": "stdout",
     "output_type": "stream",
     "text": [
      "my mother suffered from fever continuously for  months she was treated in hospital where the doctor prescribed medicines but fever did not control later she was taken to hospital since the treatment was so expensive in the hospital the doctor advised us to take her to hospital but we did not take her to hospital but took her to hospital and admitted there since stains were present all over the body the doctors were firm to see the test results on the stains to proceed further on treatment by that time they were not specific to name the disease she was dead when the treatment was going on\n"
     ]
    }
   ],
   "source": [
    "print(data[\"open_response\"][45])"
   ]
  },
  {
   "cell_type": "markdown",
   "id": "26996e13",
   "metadata": {},
   "source": [
    "<h2>3. Extender las contracciones</h2>"
   ]
  },
  {
   "cell_type": "code",
   "execution_count": 80,
   "id": "e255e0f5",
   "metadata": {},
   "outputs": [],
   "source": [
    "def extender_contracciones(text):    \n",
    "    expanded_words = []   \n",
    "    for word in text.split():\n",
    "      # using contractions.fix to expand the shortened words\n",
    "      expanded_words.append(contractions.fix(word))  \n",
    "\n",
    "    return ' '.join(expanded_words)"
   ]
  },
  {
   "cell_type": "code",
   "execution_count": 81,
   "id": "63aca26d",
   "metadata": {},
   "outputs": [
    {
     "name": "stdout",
     "output_type": "stream",
     "text": [
      "I've to go the toilet, I can't wait.\n",
      "I have to go the toilet, I cannot wait.\n"
     ]
    }
   ],
   "source": [
    "cntrtn_text = \"I've to go the toilet, I can't wait.\"\n",
    "print(cntrtn_text)\n",
    "print(extender_contracciones(cntrtn_text))"
   ]
  },
  {
   "cell_type": "code",
   "execution_count": 82,
   "id": "702997b5",
   "metadata": {},
   "outputs": [],
   "source": [
    "data[\"open_response\"] = data[\"open_response\"].apply(lambda txt: extender_contracciones(txt))"
   ]
  },
  {
   "cell_type": "markdown",
   "id": "f90a8f59",
   "metadata": {},
   "source": [
    "<h2>4. Stemming</h2>"
   ]
  },
  {
   "cell_type": "code",
   "execution_count": 83,
   "id": "159e17e7",
   "metadata": {},
   "outputs": [],
   "source": [
    "stemmer = PorterStemmer()\n",
    "\n",
    "def stem_palabras(text):\n",
    "    return \" \".join([stemmer.stem(word) for word in text.split()])"
   ]
  },
  {
   "cell_type": "code",
   "execution_count": 84,
   "id": "aea4d359",
   "metadata": {},
   "outputs": [
    {
     "name": "stdout",
     "output_type": "stream",
     "text": [
      "date he felt a lower back pain and had fever so we went to hospital here in place the doctor was suspecting arthritis he was ordered for x ray so we went to hospital lab results are all normal but suddenly the complained of difficulty in breathing the doctor said that he has pneumonia oxygen inhalation was started and still he was weak and his blood sugar was elevated and he died the ff day\n"
     ]
    }
   ],
   "source": [
    "print(data[\"open_response\"][0])"
   ]
  },
  {
   "cell_type": "code",
   "execution_count": 85,
   "id": "d6c577f8",
   "metadata": {},
   "outputs": [],
   "source": [
    "data[\"open_response\"] = data[\"open_response\"].apply(lambda text: stem_palabras(text))"
   ]
  },
  {
   "cell_type": "code",
   "execution_count": 86,
   "id": "83569135",
   "metadata": {
    "scrolled": true
   },
   "outputs": [
    {
     "name": "stdout",
     "output_type": "stream",
     "text": [
      "date he felt a lower back pain and had fever so we went to hospit here in place the doctor wa suspect arthriti he wa order for x ray so we went to hospit lab result are all normal but suddenli the complain of difficulti in breath the doctor said that he ha pneumonia oxygen inhal wa start and still he wa weak and hi blood sugar wa elev and he die the ff day\n"
     ]
    }
   ],
   "source": [
    "print(data[\"open_response\"][0])"
   ]
  },
  {
   "cell_type": "markdown",
   "id": "336e97ce",
   "metadata": {},
   "source": [
    "<h2>5. Lematizacion</h2>"
   ]
  },
  {
   "cell_type": "code",
   "execution_count": 87,
   "id": "42172462",
   "metadata": {},
   "outputs": [
    {
     "name": "stderr",
     "output_type": "stream",
     "text": [
      "[nltk_data] Downloading package wordnet to /home/peio/nltk_data...\n",
      "[nltk_data]   Package wordnet is already up-to-date!\n",
      "[nltk_data] Downloading package omw-1.4 to /home/peio/nltk_data...\n",
      "[nltk_data]   Package omw-1.4 is already up-to-date!\n"
     ]
    }
   ],
   "source": [
    "lemmatizer = WordNetLemmatizer()\n",
    "nltk.download('wordnet')\n",
    "nltk.download('omw-1.4')\n",
    "\n",
    "def lematizar_palabras(text):\n",
    "    return \" \".join([lemmatizer.lemmatize(word) for word in text.split()])"
   ]
  },
  {
   "cell_type": "code",
   "execution_count": 88,
   "id": "fdd68417",
   "metadata": {},
   "outputs": [
    {
     "name": "stdout",
     "output_type": "stream",
     "text": [
      "date he felt a lower back pain and had fever so we went to hospit here in place the doctor wa suspect arthriti he wa order for x ray so we went to hospit lab result are all normal but suddenli the complain of difficulti in breath the doctor said that he ha pneumonia oxygen inhal wa start and still he wa weak and hi blood sugar wa elev and he die the ff day\n"
     ]
    }
   ],
   "source": [
    "print(data[\"open_response\"][0])"
   ]
  },
  {
   "cell_type": "code",
   "execution_count": 89,
   "id": "6819bcbb",
   "metadata": {},
   "outputs": [],
   "source": [
    "data[\"open_response\"] = data[\"open_response\"].apply(lambda text: lematizar_palabras(text))"
   ]
  },
  {
   "cell_type": "code",
   "execution_count": 90,
   "id": "a2f9f199",
   "metadata": {
    "scrolled": true
   },
   "outputs": [
    {
     "name": "stdout",
     "output_type": "stream",
     "text": [
      "date he felt a lower back pain and had fever so we went to hospit here in place the doctor wa suspect arthriti he wa order for x ray so we went to hospit lab result are all normal but suddenli the complain of difficulti in breath the doctor said that he ha pneumonia oxygen inhal wa start and still he wa weak and hi blood sugar wa elev and he die the ff day\n"
     ]
    }
   ],
   "source": [
    "print(data[\"open_response\"][0])"
   ]
  },
  {
   "cell_type": "markdown",
   "id": "a757fbea",
   "metadata": {},
   "source": [
    "<h2>6. Quitar las stopwords</h2>"
   ]
  },
  {
   "cell_type": "markdown",
   "id": "2d9e87b8",
   "metadata": {},
   "source": [
    "(Explicacion)"
   ]
  },
  {
   "cell_type": "code",
   "execution_count": 91,
   "id": "4906790e",
   "metadata": {},
   "outputs": [
    {
     "name": "stderr",
     "output_type": "stream",
     "text": [
      "[nltk_data] Downloading package stopwords to /home/peio/nltk_data...\n",
      "[nltk_data]   Package stopwords is already up-to-date!\n"
     ]
    }
   ],
   "source": [
    "nltk.download('stopwords')\n",
    "def quitar_stopwords(txt:str):\n",
    "    return ' '.join([word for word in txt.split(' ') if word not in stopwords.words('english')])"
   ]
  },
  {
   "cell_type": "code",
   "execution_count": 92,
   "id": "191e72c7",
   "metadata": {},
   "outputs": [
    {
     "name": "stdout",
     "output_type": "stream",
     "text": [
      "the caes of death is pneumonia\n"
     ]
    }
   ],
   "source": [
    "print(data[\"open_response\"][1])"
   ]
  },
  {
   "cell_type": "code",
   "execution_count": 93,
   "id": "64e9173e",
   "metadata": {},
   "outputs": [],
   "source": [
    "data[\"open_response\"] = data[\"open_response\"].apply(lambda txt: quitar_stopwords(txt))\n"
   ]
  },
  {
   "cell_type": "code",
   "execution_count": 94,
   "id": "49742175",
   "metadata": {},
   "outputs": [
    {
     "name": "stdout",
     "output_type": "stream",
     "text": [
      "caes death pneumonia\n"
     ]
    }
   ],
   "source": [
    "print(data[\"open_response\"][1])"
   ]
  },
  {
   "cell_type": "markdown",
   "id": "fd6f6b9d",
   "metadata": {},
   "source": [
    "<h2>7. Quitar espacios extra</h2>"
   ]
  },
  {
   "cell_type": "code",
   "execution_count": 95,
   "id": "39d70fdc",
   "metadata": {},
   "outputs": [],
   "source": [
    "def quitar_espaciosExtra(txt:str):\n",
    "    return re.sub(' +', ' ', txt)"
   ]
  },
  {
   "cell_type": "code",
   "execution_count": 96,
   "id": "c3798190",
   "metadata": {},
   "outputs": [
    {
     "name": "stdout",
     "output_type": "stream",
     "text": [
      "I've   to  go the toilet,  I can't   wait.\n",
      "I've to go the toilet, I can't wait.\n"
     ]
    }
   ],
   "source": [
    "xtrSpc_text = \"I've   to  go the toilet,  I can't   wait.\"\n",
    "print(xtrSpc_text)\n",
    "print(quitar_espaciosExtra(xtrSpc_text))"
   ]
  },
  {
   "cell_type": "code",
   "execution_count": 97,
   "id": "51b91d41",
   "metadata": {},
   "outputs": [],
   "source": [
    "data[\"open_response\"] = data[\"open_response\"].apply(lambda text: quitar_espaciosExtra(text))"
   ]
  },
  {
   "cell_type": "code",
   "execution_count": null,
   "id": "b8932533",
   "metadata": {},
   "outputs": [],
   "source": []
  }
 ],
 "metadata": {
  "kernelspec": {
   "display_name": "Python 3 (ipykernel)",
   "language": "python",
   "name": "python3"
  },
  "language_info": {
   "codemirror_mode": {
    "name": "ipython",
    "version": 3
   },
   "file_extension": ".py",
   "mimetype": "text/x-python",
   "name": "python",
   "nbconvert_exporter": "python",
   "pygments_lexer": "ipython3",
   "version": "3.10.4"
  }
 },
 "nbformat": 4,
 "nbformat_minor": 5
}
